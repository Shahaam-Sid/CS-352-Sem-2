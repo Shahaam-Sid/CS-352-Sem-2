{
 "cells": [
  {
   "cell_type": "markdown",
   "id": "93048fba",
   "metadata": {},
   "source": [
    "# Iterator Protocol"
   ]
  },
  {
   "cell_type": "markdown",
   "id": "81ec4141",
   "metadata": {},
   "source": [
    "## ***Iterable*** vs ***Iterator***"
   ]
  },
  {
   "cell_type": "code",
   "execution_count": null,
   "id": "49001bcc",
   "metadata": {},
   "outputs": [
    {
     "name": "stdout",
     "output_type": "stream",
     "text": [
      "output:\n",
      "<class 'list'>\n",
      "<class 'list_iterator'>\n",
      "Type Error: a is not an iterator\n",
      "1\n"
     ]
    }
   ],
   "source": [
    "def run():\n",
    "    a = list([1, 2, 3])\n",
    "    print(type(a)) #output: <class 'list'>\n",
    "    # a is iterable\n",
    "    # for eg. a is stored at memory address #001\n",
    "\n",
    "    b = iter(a)\n",
    "    print(type(b)) #output: <class 'list_iterator'>\n",
    "    # b is iterator\n",
    "    # for eg. b is stored at memory address #098\n",
    "\n",
    "    '''\n",
    "    a and b are two completely different object of different classes\n",
    "    independent of each other\n",
    "    '''\n",
    "\n",
    "    try:\n",
    "        print(next(a)) # will raise type Error\n",
    "    except TypeError as e:\n",
    "        print('Type Error: a is not an iterator')\n",
    "        \n",
    "        \n",
    "    print(next(b)) #output: 1\n",
    "    \n",
    "print('output:')\n",
    "run()"
   ]
  },
  {
   "cell_type": "markdown",
   "id": "ee5df426",
   "metadata": {},
   "source": [
    "Iterable is an Object that contains **dunder iter()** in its class but not **dunder next()** (dunder means magic method)\n",
    "\n",
    "and\n",
    "\n",
    "Iterator is an Object that contains both **dunder iter()** and **dunder next()**"
   ]
  },
  {
   "cell_type": "markdown",
   "id": "3b54d763",
   "metadata": {},
   "source": [
    "## Iterating through For Loop\n",
    "\n",
    "-Iterating through **For loop** requires **dunder iter** and **dunder next** both inside class\n",
    "\n",
    "\n",
    "Python's for loop is designed to work with iterables (things that produce iterators), not just iterators. So it always follows this two-step process:\n",
    "\n",
    "Call *iter()* to get an iterator ← This is ***mandatory***\n",
    "\n",
    "Call *next()* repeatedly on that iterator\n",
    "\n",
    "User Defined Class Example:\n"
   ]
  },
  {
   "cell_type": "code",
   "execution_count": 18,
   "id": "0c36f62e",
   "metadata": {},
   "outputs": [
    {
     "name": "stdout",
     "output_type": "stream",
     "text": [
      "output:\n",
      "Using for loop iteration:\n",
      "10\n",
      "11\n",
      "12\n",
      "13\n"
     ]
    }
   ],
   "source": [
    "class Counter:\n",
    "    \"\"\"A simple iterator that counts from start to end.\"\"\"\n",
    "    \n",
    "    def __init__(self, start, end):\n",
    "        self.start = start\n",
    "        self.end = end\n",
    "        self.current = start\n",
    "    \n",
    "    def __iter__(self):\n",
    "        \"\"\"Return the iterator object (self).\"\"\"\n",
    "        return self\n",
    "    \n",
    "    \n",
    "    def __next__(self):\n",
    "        \"\"\"Return the next value in the sequence.\"\"\"\n",
    "        if self.current > self.end:\n",
    "            raise StopIteration\n",
    "       \n",
    "        value = self.current\n",
    "        self.current += 1\n",
    "        return value\n",
    "    \n",
    "    \n",
    "def run():\n",
    "    print(\"Using for loop iteration:\")\n",
    "    counter2 = Counter(10, 13)\n",
    "\n",
    "    for i in counter2:\n",
    "        #first calls dunder iter()\n",
    "        #then calls dunder next() repeatedly as per the loop\n",
    "        print(i)\n",
    "        \n",
    "print('output:')\n",
    "run()"
   ]
  },
  {
   "cell_type": "markdown",
   "id": "1250b14e",
   "metadata": {},
   "source": [
    "Python's built in **list** example:"
   ]
  },
  {
   "cell_type": "code",
   "execution_count": 19,
   "id": "ea16cdf9",
   "metadata": {},
   "outputs": [
    {
     "name": "stdout",
     "output_type": "stream",
     "text": [
      "output:\n",
      "78\n",
      "65\n",
      "45\n"
     ]
    }
   ],
   "source": [
    "def run():\n",
    "    marks = [78, 65, 45]\n",
    "\n",
    "    for mark in marks:\n",
    "        #first calls dunder iter() to make this iterable and iterator\n",
    "        #then call dunder next() repeatedly as per the loop\n",
    "        print(mark)\n",
    "        \n",
    "print('output:')\n",
    "run()"
   ]
  },
  {
   "cell_type": "markdown",
   "id": "bdab3d8c",
   "metadata": {},
   "source": [
    "alternative code without using for loop:\n",
    "\n",
    "(pretty much explains what happens in the background of for loop)"
   ]
  },
  {
   "cell_type": "code",
   "execution_count": 20,
   "id": "8ee86814",
   "metadata": {},
   "outputs": [
    {
     "name": "stdout",
     "output_type": "stream",
     "text": [
      "output:\n",
      "78\n",
      "65\n",
      "45\n"
     ]
    }
   ],
   "source": [
    "def run():\n",
    "    marks = [78, 65, 45] # this is an iterable\n",
    "\n",
    "    marks = marks.__iter__() # creates new iterator object and assigns it to marks\n",
    "\n",
    "    print(next(marks)) # iterates through the loop\n",
    "    print(next(marks))\n",
    "    print(next(marks))\n",
    "\n",
    "print('output:')    \n",
    "run()"
   ]
  },
  {
   "cell_type": "markdown",
   "id": "c8510d2f",
   "metadata": {},
   "source": [
    "## Iterating manualy\n",
    "\n",
    "- Iterating ***Manualy*** only requires **dunder next** inside the class, but this is not a proper ***iterator protocol*** because it lacks **dunder iter()**. This means:\n",
    "\n",
    "❌ Can't be used in a for loop\n",
    "\n",
    "❌ Can't be used with functions expecting iterables (like list(), sum(), etc.)\n",
    "\n",
    "✓ Only works with direct next() calls\n",
    "\n",
    "Example:"
   ]
  },
  {
   "cell_type": "code",
   "execution_count": 21,
   "id": "4d36c077",
   "metadata": {},
   "outputs": [
    {
     "name": "stdout",
     "output_type": "stream",
     "text": [
      "output:\n",
      "Using manual iteration:\n",
      "10\n",
      "11\n",
      "12\n",
      "13\n"
     ]
    }
   ],
   "source": [
    "class CounterWithoutIter:\n",
    "    \"\"\"A simple iterator that counts from start to end.\"\"\"\n",
    "    \n",
    "    def __init__(self, start, end):\n",
    "        self.start = start\n",
    "        self.end = end\n",
    "        self.current = start\n",
    "    \n",
    "    \n",
    "    def __next__(self):\n",
    "        \"\"\"Return the next value in the sequence.\"\"\"\n",
    "        if self.current > self.end:\n",
    "            raise StopIteration\n",
    "        \n",
    "        value = self.current\n",
    "        self.current += 1\n",
    "        return value\n",
    "\n",
    "\n",
    "def run():\n",
    "    print(\"Using manual iteration:\")\n",
    "    counter2 = CounterWithoutIter(10, 13)\n",
    "        \n",
    "    print(next(counter2))  # 10\n",
    "    print(next(counter2))  # 11\n",
    "    print(next(counter2))  # 12\n",
    "    print(next(counter2))  # 13\n",
    "    # print(next(iterator))  # Would raise StopIteration\n",
    "    \n",
    "print('output:')\n",
    "run()"
   ]
  }
 ],
 "metadata": {
  "kernelspec": {
   "display_name": "base",
   "language": "python",
   "name": "python3"
  },
  "language_info": {
   "codemirror_mode": {
    "name": "ipython",
    "version": 3
   },
   "file_extension": ".py",
   "mimetype": "text/x-python",
   "name": "python",
   "nbconvert_exporter": "python",
   "pygments_lexer": "ipython3",
   "version": "3.13.5"
  }
 },
 "nbformat": 4,
 "nbformat_minor": 5
}
